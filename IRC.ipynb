{
 "cells": [
  {
   "cell_type": "code",
   "execution_count": 16,
   "metadata": {},
   "outputs": [],
   "source": [
    "class IRC:\n",
    "    pedestrian_walking_speed = 1.2\n",
    "    Intial_walking_time = 7.0\n",
    "\n",
    "    def __init__(self,width_road1,width_road2,lanes_road1,lanes_road2,approachesVol_road1,approachesVol_road2):\n",
    "        self.width_road1 = width_road1\n",
    "        self.width_road2 = width_road2\n",
    "        self.lanes_road1 = lanes_road1\n",
    "        self.lanes_road2 = lanes_road2\n",
    "        self.approachesVol_road1 = approachesVol_road1\n",
    "        self.approachesVol_road2 = approachesVol_road2\n",
    "\n",
    "    def DesignTraffic(self):\n",
    "        return (max(self.approachesVol_road1)/(self.lanes_road1/2)),(max(self.approachesVol_road2)/(self.lanes_road2/2))\n",
    "    \n",
    "    def PedestrianGreenTime(self):\n",
    "        pedestrianGreenTime_road1 = (self.width_road1/self.pedestrian_walking_speed) + self.Intial_walking_time\n",
    "        pedestrianGreenTime_road2 = (self.width_road2/self.pedestrian_walking_speed) + self.Intial_walking_time\n",
    "        pdGreenTime = [pedestrianGreenTime_road1,pedestrianGreenTime_road2]\n",
    "        return pdGreenTime\n",
    "    \n",
    "    def MinGreenTime(self):\n",
    "        pd = self.PedestrianGreenTime()\n",
    "        MinGTfroTraffic_road2 = max(pd)\n",
    "        MinGTfroTraffic_road1 = round((max(pd) * (self.design_traffic_road1/self.design_traffic_road2)),1)\n",
    "        return MinGTfroTraffic_road1,MinGTfroTraffic_road2\n"
   ]
  },
  {
   "cell_type": "code",
   "execution_count": 17,
   "metadata": {},
   "outputs": [
    {
     "name": "stdout",
     "output_type": "stream",
     "text": [
      "[17.0, 12.5]\n"
     ]
    }
   ],
   "source": [
    "irc = IRC(12,6.6,4,2,[900,743],[278,180])\n",
    "\n",
    "volume = irc.DesignTraffic()\n",
    "\n",
    "greenTime = irc.PedestrianGreenTime()\n",
    "print(greenTime)"
   ]
  }
 ],
 "metadata": {
  "kernelspec": {
   "display_name": "Python 3",
   "language": "python",
   "name": "python3"
  },
  "language_info": {
   "codemirror_mode": {
    "name": "ipython",
    "version": 3
   },
   "file_extension": ".py",
   "mimetype": "text/x-python",
   "name": "python",
   "nbconvert_exporter": "python",
   "pygments_lexer": "ipython3",
   "version": "3.8.3"
  }
 },
 "nbformat": 4,
 "nbformat_minor": 2
}
