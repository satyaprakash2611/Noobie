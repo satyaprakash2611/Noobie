{
 "cells": [
  {
   "cell_type": "code",
   "execution_count": 8,
   "metadata": {},
   "outputs": [],
   "source": [
    "class IRC:\n",
    "    pedestrian_walking_speed = 1.2\n",
    "    Intial_walking_time = 7.0\n",
    "    amberTime = 2.0\n",
    "    InterGreenTime = 2.0\n",
    "    TimeOfFirstVehicle = 6.0\n",
    "\n",
    "    def __init__(self,width_road1,width_road2,lanes_road1,lanes_road2,approachesVol_road1,approachesVol_road2):\n",
    "        self.width_road1 = width_road1\n",
    "        self.width_road2 = width_road2\n",
    "        self.lanes_road1 = lanes_road1\n",
    "        self.lanes_road2 = lanes_road2\n",
    "        self.approachesVol_road1 = approachesVol_road1\n",
    "        self.approachesVol_road2 = approachesVol_road2\n",
    "\n",
    "    def DesignTraffic(self):\n",
    "        design_traffic_road1 = max(self.approachesVol_road1)/(self.lanes_road1/2)\n",
    "        design_traffic_road2 = max(self.approachesVol_road2)/(self.lanes_road2/2)\n",
    "        return design_traffic_road1,design_traffic_road2\n",
    "    \n",
    "    def PedestrianGreenTime(self):\n",
    "        pedestrianGreenTime_road1 = (self.width_road1/self.pedestrian_walking_speed) + self.Intial_walking_time\n",
    "        pedestrianGreenTime_road2 = (self.width_road2/self.pedestrian_walking_speed) + self.Intial_walking_time\n",
    "        return pedestrianGreenTime_road1,pedestrianGreenTime_road2\n",
    "     \n",
    "\n",
    "    def MinGreenTime(self):\n",
    "        MinGTfroTraffic_road2 = max(self.PedestrianGreenTime())\n",
    "        MinGTfroTraffic_road1 = round((max(self.PedestrianGreenTime()) * (self.DesignTraffic()[0]/self.DesignTraffic()[1])),1)\n",
    "        return MinGTfroTraffic_road1,MinGTfroTraffic_road2\n",
    "    \n",
    "    def CalculateCycle(self):\n",
    "        totalCycle = (self.amberTime + self.MinGreenTime()[0] + self.InterGreenTime) + (self.amberTime + self.MinGreenTime()[1] + self.InterGreenTime)\n",
    "        cycleTime = 0\n",
    "\n",
    "        if totalCycle % 5 == 0:\n",
    "            cycleTime = totalCycle\n",
    "        else:\n",
    "            val = 5 - (totalCycle % 5)\n",
    "            cycleTime = totalCycle + val\n",
    "\n",
    "        extraTime = (cycleTime - totalCycle)\n",
    "\n",
    "        revGreenTime_road1 = self.MinGreenTime()[0] + 1.5\n",
    "        revGreenTime_road2 = self.MinGreenTime()[1] + 1.0\n",
    "\n",
    "        return revGreenTime_road1,revGreenTime_road2,cycleTime\n",
    "\n",
    "    def ReqMinGreenTime(self):\n",
    "        vehicle_arriving_road1 = round(self.DesignTraffic()[0]/ self.CalculateCycle()[2], 1)\n",
    "        min_green_time_per_cycle_road1 = self.TimeOfFirstVehicle + (vehicle_arriving_road1 - 1) * 2\n",
    "\n",
    "        vehicle_arriving_road2 = round(self.DesignTraffic()[1]/ self.CalculateCycle()[2], 1)\n",
    "        min_green_time_per_cycle_road2 = self.TimeOfFirstVehicle + (vehicle_arriving_road2 - 1) * 2\n",
    "\n",
    "        return \"Your Answer is Correct\" if (min_green_time_per_cycle_road1 < self.CalculateCycle()[0]) and (min_green_time_per_cycle_road2 < self.CalculateCycle()[1]) else \"Your Answer is Wrong\"\n"
   ]
  },
  {
   "cell_type": "code",
   "execution_count": 9,
   "metadata": {},
   "outputs": [
    {
     "name": "stdout",
     "output_type": "stream",
     "text": [
      "(29.0, 18.0, 55.0)\n",
      "Your Answer is Correct\n"
     ]
    }
   ],
   "source": [
    "irc = IRC(12,6.6,4,2,[900,743],[278,180])\n",
    "\n",
    "volume = irc.DesignTraffic()\n",
    "greenTime = irc.PedestrianGreenTime()\n",
    "MinGT = irc.MinGreenTime()\n",
    "\n",
    "tc = irc.CalculateCycle()\n",
    "print(tc)\n",
    "\n",
    "req = irc.ReqMinGreenTime()\n",
    "print(req)"
   ]
  }
 ],
 "metadata": {
  "kernelspec": {
   "display_name": "Python 3",
   "language": "python",
   "name": "python3"
  },
  "language_info": {
   "codemirror_mode": {
    "name": "ipython",
    "version": 3
   },
   "file_extension": ".py",
   "mimetype": "text/x-python",
   "name": "python",
   "nbconvert_exporter": "python",
   "pygments_lexer": "ipython3",
   "version": "3.8.3"
  }
 },
 "nbformat": 4,
 "nbformat_minor": 2
}
